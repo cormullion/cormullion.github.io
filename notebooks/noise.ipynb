{
 "cells": [
  {
   "cell_type": "markdown",
   "metadata": {},
   "source": [
    ">This is another post in the ongoing series in which I try to learn 2D vector graphics using Julia. It doesn't contain any revelations or new material, and you should visit the following sites if you're looking for a good introduction to the subject of noise in graphics:"
   ]
  },
  {
   "cell_type": "markdown",
   "metadata": {},
   "source": [
    "- [red blob games](https://www.redblobgames.com/articles/noise/introduction.html)\n",
    "- [adrianbiagioli](http://flafla2.github.io/2014/08/09/perlinnoise.html)\n",
    "- [khan academy](https://www.khanacademy.org/partner-content/pixar/pattern/perlin-noise/v/patterns-9)"
   ]
  },
  {
   "cell_type": "markdown",
   "metadata": {},
   "source": [
    "I'm using Julia version 1.0 if you want to play along; you can find the source files and notebooks on the github. If you do, you'll need the packages [Luxor](https://github.com/JuliaGraphics/Luxor.jl), [Colors](https://github.com/JuliaGraphics/Colors.jl), and [ColorSchemes](https://github.com/JuliaGraphics/ColorSchemes.jl). I used  [Literate.jl](https://github.com/fredrikekre/Literate.jl) to produce the Markdown and Jupyter notebook versions."
   ]
  },
  {
   "cell_type": "markdown",
   "metadata": {},
   "source": [
    "### Random versus Noise"
   ]
  },
  {
   "cell_type": "markdown",
   "metadata": {},
   "source": [
    "Luxor provides a function called `noise()`. This can accept a single floating-point number as input, and it returns a value between 0.0 and 1.0."
   ]
  },
  {
   "cell_type": "code",
   "execution_count": null,
   "metadata": {},
   "outputs": [],
   "source": [
    "using Luxor\n",
    "\n",
    "noise(0.0)"
   ]
  },
  {
   "cell_type": "code",
   "execution_count": null,
   "metadata": {},
   "outputs": [],
   "source": [
    "noise(1.0)"
   ]
  },
  {
   "cell_type": "code",
   "execution_count": null,
   "metadata": {},
   "outputs": [],
   "source": [
    "noise(2.0)"
   ]
  },
  {
   "cell_type": "markdown",
   "metadata": {},
   "source": [
    "It will be easier to draw some graphs. Here's a quick throwaway function to draw a simple graph."
   ]
  },
  {
   "cell_type": "code",
   "execution_count": null,
   "metadata": {},
   "outputs": [],
   "source": [
    "function graph(a, width = 800;\n",
    "        startnumber     = 0,\n",
    "        endnumber       = 1,\n",
    "        style           = :line,\n",
    "        margin          = 30)\n",
    "    setline(1)\n",
    "    bars(a, labels      =false,\n",
    "            xwidth      = (width - 2margin)/length(a),\n",
    "            yheight     =40,\n",
    "            barfunction = (bottom::Point, top::Point, value;\n",
    "        extremes=extrema(a), barnumber=0, bartotal=0) ->\n",
    "            begin\n",
    "                if style == :line\n",
    "                    line(bottom, top, :stroke)\n",
    "                else\n",
    "                    circle(top, 1, :fill)\n",
    "                end\n",
    "            end)\n",
    "    sethue(\"black\")\n",
    "    label(string(startnumber), :S,\n",
    "        Point(0, 0), offset=10)\n",
    "    label(string(endnumber), :S,\n",
    "        Point(width - 2margin, 0), offset=10)\n",
    "end\n",
    "\n",
    "function drawgraph(startvalue, endvalue, filename)\n",
    "    Drawing(800, 150, filename)\n",
    "    background(\"white\")\n",
    "    origin()\n",
    "    # move to top left corner\n",
    "    margin=30\n",
    "    translate(BoundingBox()[1] + (margin, boxheight(BoundingBox()/2)))\n",
    "    sethue(\"black\")\n",
    "    graph(noise.(range(startvalue, endvalue, length=200)),\n",
    "        startnumber=startvalue,\n",
    "        endnumber=endvalue)\n",
    "    finish(); preview()\n",
    "end"
   ]
  },
  {
   "cell_type": "markdown",
   "metadata": {},
   "source": [
    "To test this out, graph 200 random integers:"
   ]
  },
  {
   "cell_type": "code",
   "execution_count": null,
   "metadata": {},
   "outputs": [],
   "source": [
    "Drawing(800, 150, \"images/noise/graph-random.png\")\n",
    "background(\"white\")\n",
    "origin() ## move to top left corner\n",
    "margin=30\n",
    "translate(BoundingBox()[1] + (margin, boxheight(BoundingBox()/2)))\n",
    "sethue(\"black\")\n",
    "graph(rand(200))\n",
    "finish(); preview()"
   ]
  },
  {
   "cell_type": "markdown",
   "metadata": {},
   "source": [
    "![image label](images/noise/graph-random.png)"
   ]
  },
  {
   "cell_type": "markdown",
   "metadata": {},
   "source": [
    "To start with, let's graph the output of the `noise()` function for the first 200 integers:"
   ]
  },
  {
   "cell_type": "code",
   "execution_count": null,
   "metadata": {},
   "outputs": [],
   "source": [
    "drawgraph(0, 200, \"images/noise/graph-0-200.png\")"
   ]
  },
  {
   "cell_type": "markdown",
   "metadata": {},
   "source": [
    "![image label](images/noise/graph-0-200.png)"
   ]
  },
  {
   "cell_type": "markdown",
   "metadata": {},
   "source": [
    "It looks very random. But let's look at 200 values between 0 and 10:"
   ]
  },
  {
   "cell_type": "code",
   "execution_count": null,
   "metadata": {},
   "outputs": [],
   "source": [
    "drawgraph(0, 10, \"images/noise/graph-0-10.png\")"
   ]
  },
  {
   "cell_type": "markdown",
   "metadata": {},
   "source": [
    "![image label](images/noise/graph-0-10.png)"
   ]
  },
  {
   "cell_type": "markdown",
   "metadata": {},
   "source": [
    "There's some randomness, but it's smoother, and looks more natural."
   ]
  },
  {
   "cell_type": "markdown",
   "metadata": {},
   "source": [
    "Zoom and enhance, between 0 and 5:"
   ]
  },
  {
   "cell_type": "code",
   "execution_count": null,
   "metadata": {},
   "outputs": [],
   "source": [
    "drawgraph(0, 5, \"images/noise/graph-5.png\")"
   ]
  },
  {
   "cell_type": "markdown",
   "metadata": {},
   "source": [
    "![image label](images/noise/graph-5.png)"
   ]
  },
  {
   "cell_type": "markdown",
   "metadata": {},
   "source": [
    "You can see that the left half of the 0 to 10 graph has been stretched."
   ]
  },
  {
   "cell_type": "markdown",
   "metadata": {},
   "source": [
    "Between 0 and 1:"
   ]
  },
  {
   "cell_type": "code",
   "execution_count": null,
   "metadata": {},
   "outputs": [],
   "source": [
    "drawgraph(0, 1, \"images/noise/graph-0-1.png\")"
   ]
  },
  {
   "cell_type": "markdown",
   "metadata": {},
   "source": [
    "![image label](images/noise/graph-0-1.png)"
   ]
  },
  {
   "cell_type": "markdown",
   "metadata": {},
   "source": [
    "One more for luck:"
   ]
  },
  {
   "cell_type": "code",
   "execution_count": null,
   "metadata": {},
   "outputs": [],
   "source": [
    "drawgraph(0, 0.5, \"images/noise/graph-0-05.png\")"
   ]
  },
  {
   "cell_type": "markdown",
   "metadata": {},
   "source": [
    "![image label](images/noise/graph-0-05.png)"
   ]
  },
  {
   "cell_type": "markdown",
   "metadata": {},
   "source": [
    "The more often you sample the noise space (ie the shorter the gaps between the set of values passed to `noise()`, the closer together the output values will be."
   ]
  },
  {
   "cell_type": "markdown",
   "metadata": {},
   "source": [
    "So the `noise()` function provides gently changing undulations rather than the unpredictable jumps of randomness. Here's a slowly changing color pattern in the LCHab color space, using a set of noisy values to choose the hue. We'll change the length of each line as well just for fun:"
   ]
  },
  {
   "cell_type": "code",
   "execution_count": null,
   "metadata": {},
   "outputs": [],
   "source": [
    "using Colors\n",
    "@svg begin  ## switch to SVG for better graphic quality\n",
    "    rate = .009\n",
    "    setline(2)\n",
    "    for x in -250:2:250\n",
    "        yn = noise(x * rate)\n",
    "        hue = rescale(yn, 0, 1, 0, 359)\n",
    "        sethue(LCHab(50, 100, hue))\n",
    "        ht = rescale(yn, 0, 1, 10, 100)\n",
    "        line(Point(x, -ht/2), Point(x, ht/2), :stroke)\n",
    "    end\n",
    "end 600 200 \"images/noise/colorbars.svg\""
   ]
  },
  {
   "cell_type": "markdown",
   "metadata": {},
   "source": [
    "![image label](images/noise/colorbars.svg)"
   ]
  },
  {
   "cell_type": "markdown",
   "metadata": {},
   "source": [
    "You can use noisy values to specify other changing parameters. For example, let's place some pebbles at random, and control their size using a noisy distribution, to give the illusion of a naturally changing distribution."
   ]
  },
  {
   "cell_type": "code",
   "execution_count": null,
   "metadata": {},
   "outputs": [],
   "source": [
    "function drawpebble(pt, radius)\n",
    "    sethue(\"grey60\")\n",
    "    @layer begin\n",
    "        transform([rand(0.5:0.1:1) 0 0 rand(0.5:0.1:1) 0 0])\n",
    "        circle(pt, radius, :fill)\n",
    "        for i in 1:-0.02:0.2\n",
    "            sethue(rescale(i, 1, 0,   0.5 + rand(0:0.1:0.3), 1.0),\n",
    "                   rescale(i, 1, 0.1, 0.4 + rand(0:0.1:0.5), 1.0),\n",
    "                   rescale(i, 1, 0.3, 0.5, 1.0))\n",
    "            setopacity(1 - i)\n",
    "            circle(pt + (-2i, -2i), i * radius, :fill)\n",
    "        end\n",
    "    end\n",
    "end\n",
    "\n",
    "\n",
    "@png begin\n",
    "    # switch to PNG, SVG can't handle this\n",
    "    background(\"palegoldenrod\")\n",
    "    pebblesize = 12\n",
    "    for i in 1:6000\n",
    "        pt = Point(rand(-400:400), rand(-200:200))\n",
    "        n = noise(pt.x * 0.002)\n",
    "        drawpebble(pt, pebblesize * n)\n",
    "    end\n",
    "end 800 400 \"images/noise/pebbles.png\""
   ]
  },
  {
   "cell_type": "markdown",
   "metadata": {},
   "source": [
    "![image label](images/noise/pebbles.png)"
   ]
  },
  {
   "cell_type": "markdown",
   "metadata": {},
   "source": [
    "### Detail and persistence"
   ]
  },
  {
   "cell_type": "markdown",
   "metadata": {},
   "source": [
    "The `noise()` function has two optional keyword arguments that let you tweak the knobs of the noise generator."
   ]
  },
  {
   "cell_type": "markdown",
   "metadata": {},
   "source": [
    "The first is `detail`, an integer. Increasing it from the default value of 1 upwards will add finer detail to the basic noise. The second is `persistence`, a floating-point value between 0 and 1 (or more)."
   ]
  },
  {
   "cell_type": "markdown",
   "metadata": {},
   "source": [
    "'detail` is graphed here with values from 1 to 12. As the level increases, you can see that the same overall noise contours are gradually modulated with finer variations."
   ]
  },
  {
   "cell_type": "code",
   "execution_count": null,
   "metadata": {},
   "outputs": [],
   "source": [
    "function detailgraph()\n",
    "    @svg begin\n",
    "        margin=30\n",
    "        translate(BoundingBox()[1] + (margin, 0))\n",
    "        setline(.5)\n",
    "        sethue(\"black\")\n",
    "        stopat = 2\n",
    "        r = range(0, length=400, stop=stopat)\n",
    "        for detail in 1:2:12\n",
    "            translate(0, 100)\n",
    "            sethue(\"red\")\n",
    "            graph(noise.(r), style=:circle, endnumber=stopat)\n",
    "            sethue(\"black\")\n",
    "            text(\"detail = $detail, persistence = 0.9\", Point(200, 15))\n",
    "            graph(noise.(r, detail=detail, persistence=0.9), endnumber=stopat)\n",
    "        end\n",
    "    end 800 650 \"images/noise/detail-graph.svg\"\n",
    " end\n",
    "detailgraph()"
   ]
  },
  {
   "cell_type": "markdown",
   "metadata": {},
   "source": [
    "![image label](images/noise/detail-graph.svg){: .center-image}"
   ]
  },
  {
   "cell_type": "markdown",
   "metadata": {},
   "source": [
    "You can see the original noisy curve (in red) behind each more detailed graph. The noise generator is doubling the frequency but halving the amplitude every time you go one level higher. Noise, like music, can have octaves of higher frequencies mixed with lower fundamental frequency. The `detail` keyword is adding one or more octaves of noise."
   ]
  },
  {
   "cell_type": "markdown",
   "metadata": {},
   "source": [
    "The `persistence` argument defaults to zero. The value controls the amplitude of each successive octave of noise, with higher values of persistence producing higher levels of finer detail, as the values persist for longer."
   ]
  },
  {
   "cell_type": "code",
   "execution_count": null,
   "metadata": {},
   "outputs": [],
   "source": [
    "function persistencegraph()\n",
    "    @svg begin\n",
    "        setline(.5)\n",
    "        sethue(\"black\")\n",
    "        margin=30\n",
    "        translate(BoundingBox()[1] + (margin, 0))\n",
    "        stopat = 10\n",
    "        r = range(0, length=400, stop=stopat)\n",
    "        for p in 0:0.25:2\n",
    "            translate(0, 70)\n",
    "            sethue(\"red\")\n",
    "            graph(noise.(r, detail=4, persistence=0),\n",
    "                endnumber=stopat, style=:circle)\n",
    "            sethue(\"black\")\n",
    "            text(\"detail = 4, persistence = $p\", Point(200, 15))\n",
    "            graph(noise.(r, detail=4, persistence=p),\n",
    "                endnumber=stopat)\n",
    "        end\n",
    "    end 800 675 \"images/noise/persistence-graph.svg\"\n",
    "end\n",
    "\n",
    "persistencegraph()"
   ]
  },
  {
   "cell_type": "markdown",
   "metadata": {},
   "source": [
    "![image label](images/noise/persistence-graph.svg)"
   ]
  },
  {
   "cell_type": "markdown",
   "metadata": {},
   "source": [
    "Here, the detail is kept at 4, and the persistence varies from 0 upwards. As the persistence increases, the effects accumulate, until the original curve is barely visible."
   ]
  },
  {
   "cell_type": "markdown",
   "metadata": {},
   "source": [
    "There are many uses for noisy input, such as generating varying shapes that don't have that undesirable 'too random' quality."
   ]
  },
  {
   "cell_type": "code",
   "execution_count": null,
   "metadata": {},
   "outputs": [],
   "source": [
    "using ColorSchemes\n",
    "\n",
    "function treerings()\n",
    "    @svg begin\n",
    "        nrate = 0.01\n",
    "        npoints= 500\n",
    "        nrings = 400\n",
    "        rad = 20\n",
    "        setline(0.5)\n",
    "        for ring in nrings:-5:1\n",
    "            pts = Point[]\n",
    "            for i in 1:npoints\n",
    "                push!(pts, polar(rad + (ring * noise(i * nrate)),\n",
    "                    rescale(i, 1, npoints, 0, 2pi)))\n",
    "            end\n",
    "            sethue(get(ColorSchemes.sienna, noise(ring * 5nrate)))\n",
    "            poly(pts, :fill, close=false)\n",
    "            sethue(\"black\")\n",
    "            poly(pts, :stroke, close=false)\n",
    "        end\n",
    "        end 800 800 \"images/noise/treerings.svg\"\n",
    "end\n",
    "\n",
    "treerings()"
   ]
  },
  {
   "cell_type": "markdown",
   "metadata": {},
   "source": [
    "![image label](images/noise/treerings.svg){: .center-image}"
   ]
  },
  {
   "cell_type": "markdown",
   "metadata": {},
   "source": [
    "Here's a more questionable idea, using noise to control the setting of a line of text."
   ]
  },
  {
   "cell_type": "code",
   "execution_count": null,
   "metadata": {},
   "outputs": [],
   "source": [
    "function drawtextline(t, point, fsize; rate=0.1)\n",
    "    for (n, c) in enumerate(split(t, \"\"))\n",
    "        f = fsize * noise(n * rate, persistence=0, detail=4)\n",
    "        fontsize(f)\n",
    "        te = textextents(c)\n",
    "        text(c, point)\n",
    "        point = Point(point.x + te[5] * 0.98, 0) ## tightness is tight\n",
    "        move(point)\n",
    "    end\n",
    "end\n",
    "\n",
    "@png begin\n",
    "    fontface(\"Bodoni\")\n",
    "    drawtextline(\"variablefontsizetextsettingiscool,orisit?\",\n",
    "        O - (380, 0), 50, rate=.11)\n",
    "end 800 120 \"images/noise/text-setting.png\""
   ]
  },
  {
   "cell_type": "markdown",
   "metadata": {},
   "source": [
    "![image label](images/noise/text-setting.png)"
   ]
  },
  {
   "cell_type": "markdown",
   "metadata": {},
   "source": [
    "I then used the `readpng()` and `placeimage()` functions to add a background image (the original Tenniel illustration), with the following result:"
   ]
  },
  {
   "cell_type": "markdown",
   "metadata": {},
   "source": [
    "![image label](images/noise/jabberwocky.png){: .center-image}"
   ]
  },
  {
   "cell_type": "markdown",
   "metadata": {},
   "source": [
    "### Why noise?"
   ]
  },
  {
   "cell_type": "markdown",
   "metadata": {},
   "source": [
    "The first use of computer graphics in movies is generally considered to be Tron (1981)."
   ]
  },
  {
   "cell_type": "markdown",
   "metadata": {},
   "source": [
    "Tron lies at the very beginning of the history of CGI in the movies, and the technology available to the artists, mathematicians, and programmers making Tron was amazingly underpowered compared with the computing power that we have today on our wrists, let alone on our phones."
   ]
  },
  {
   "cell_type": "markdown",
   "metadata": {},
   "source": [
    "Ken Perlin was a mathematician and programmer who worked on Tron, and (I think after the film was released) he realised that there was room for using mathematical techniques for realistic-looking surfaces and textures, such as terrain."
   ]
  },
  {
   "cell_type": "markdown",
   "metadata": {},
   "source": [
    "![image label](images/noise/tron-800.png)"
   ]
  },
  {
   "cell_type": "markdown",
   "metadata": {},
   "source": [
    "Ken's noise, or Perlin Noise as it became known, was quickly adodpted as the best way to generate naturalistic surfaces."
   ]
  },
  {
   "cell_type": "markdown",
   "metadata": {},
   "source": [
    "I think the reason why natural scenes appear to us as variable but not completely random is due to the (possibly hidden) larger scale processes that make smaller and more visible details clump together, and appear to work together and change gradually. For example, clouds, mountains, and pebble beaches have large scale structure controlled by unseen forces like heat, pressure, and gravity. We mostly see the objects that are subject to these forces, rather than the forces themselves."
   ]
  },
  {
   "cell_type": "markdown",
   "metadata": {},
   "source": [
    "### Moving into 2D"
   ]
  },
  {
   "cell_type": "markdown",
   "metadata": {},
   "source": [
    "So far the noise we've been producing has been one-dimensional, although we've been using 2D graphics to draw it."
   ]
  },
  {
   "cell_type": "markdown",
   "metadata": {},
   "source": [
    "The `noise()` function can accept two floating-point numbers as input. These effectively define a rectangular grid of varying noise values: the x and y inputs produce a third value which requires representation."
   ]
  },
  {
   "cell_type": "markdown",
   "metadata": {},
   "source": [
    "A simple way of doing this is to draw a table and vary the color of each square, giving a type of heat map."
   ]
  },
  {
   "cell_type": "code",
   "execution_count": null,
   "metadata": {},
   "outputs": [],
   "source": [
    "using ColorSchemes\n",
    "\n",
    "@svg begin\n",
    "    nrows = 40\n",
    "    ncols = 40\n",
    "    cellwidth = 15\n",
    "    cellheight = 15\n",
    "    table = Table(nrows, ncols, cellwidth, cellheight)\n",
    "    rate = 0.1\n",
    "    fontsize(5)\n",
    "    for row in 1:nrows\n",
    "        for col in 1:ncols\n",
    "            zvalue = noise(row * rate, col * rate)\n",
    "            sethue(get(ColorSchemes.temperaturemap, zvalue))\n",
    "            box(table[row, col], table.colwidths[1], table.rowheights[1], :fill)\n",
    "            sethue(\"black\")\n",
    "            text(string(round(zvalue, digits=1)), table[row, col], halign=:center, valign=:middle)\n",
    "        end\n",
    "    end\n",
    "end 800 700 \"images/noise/table.svg\""
   ]
  },
  {
   "cell_type": "markdown",
   "metadata": {},
   "source": [
    "![image label](images/noise/table.svg)"
   ]
  },
  {
   "cell_type": "markdown",
   "metadata": {},
   "source": [
    "Alternatively, we can create a 3D surface and use the noise values for the height at each point. Normally this would require a visit to Julia's colorful and generally awesome Swedish-nightclub-themed Package manager, Pkg:"
   ]
  },
  {
   "cell_type": "markdown",
   "metadata": {},
   "source": [
    "![image label](images/noise/imstillfree.gif)"
   ]
  },
  {
   "cell_type": "markdown",
   "metadata": {},
   "source": [
    "to download some of the cool plotting packages available, not least Simon Danisch's impressive [Makie.jl](https://github.com/JuliaPlots/Makie.jl)."
   ]
  },
  {
   "cell_type": "markdown",
   "metadata": {},
   "source": [
    "But, just to be contrary, I decided to whip up a simple isometric projection:"
   ]
  },
  {
   "cell_type": "code",
   "execution_count": null,
   "metadata": {},
   "outputs": [],
   "source": [
    "function project(x, y, z;\n",
    "        scalingfactor = 3, heightmultiplier = -1)\n",
    "    # negative because y is positive downwards!\n",
    "    u = (x - y)/sqrt(2)\n",
    "    v = (x + 2(heightmultiplier * z) + y)/sqrt(6)\n",
    "    return Point(scalingfactor * u, scalingfactor * v)\n",
    "end\n",
    "\n",
    "project(t; kwargs...) = project(t[1], t[2], t[3]; kwargs...)\n",
    "\n",
    "function generatenoisearray(sx=100, sy=100;\n",
    "    rate=0.5,\n",
    "    detail=1,\n",
    "    persistence=0)\n",
    "    a = Array{Float64}(undef, sx, sy)\n",
    "    for x in 1:sx\n",
    "        for y in 1:sy\n",
    "            a[x, y] = noise(x * rate, y * rate,\n",
    "                detail=detail, persistence=persistence)\n",
    "        end\n",
    "    end\n",
    "    return a\n",
    "end\n",
    "\n",
    "function isograph(a)\n",
    "    @svg begin\n",
    "        background(\"grey30\")\n",
    "        translate(0, -300)\n",
    "        setline(0.5)\n",
    "        sx, sy = size(a)\n",
    "        scalingfactor = 5\n",
    "        heightmultiplier = -6\n",
    "        for x in 1:sx-1\n",
    "            newpath()\n",
    "            move(project(x, sy, -10,\n",
    "                    scalingfactor = scalingfactor,\n",
    "                    heightmultiplier = heightmultiplier))\n",
    "            for y in sy-1:-1:1\n",
    "                toppolygon = project.([\n",
    "                    (x,     y,     a[x, y]),\n",
    "                    (x + 1, y,     a[x + 1, y]),\n",
    "                    (x + 1, y + 1, a[x + 1, y + 1]),\n",
    "                    (x,     y + 1, a[x, y + 1])],\n",
    "                        scalingfactor = scalingfactor,\n",
    "                        heightmultiplier = heightmultiplier)\n",
    "                centroid = polycentroid(toppolygon)\n",
    "                line(centroid)\n",
    "            end\n",
    "            line(project(x, 1, -10,\n",
    "                scalingfactor = scalingfactor,\n",
    "                heightmultiplier = heightmultiplier))\n",
    "            sethue(\"grey20\")\n",
    "            fillpreserve()\n",
    "            sethue(\"grey85\")\n",
    "            strokepath()\n",
    "        end\n",
    "    end 800 700 \"images/noise/isograph.svg\"\n",
    "end\n",
    "\n",
    "isograph(generatenoisearray(80, 80, rate=0.08))"
   ]
  },
  {
   "cell_type": "markdown",
   "metadata": {},
   "source": [
    "![image label](images/noise/isograph.svg)"
   ]
  },
  {
   "cell_type": "markdown",
   "metadata": {},
   "source": [
    "(This image reminds me of the famous Joy Division LP cover and T-shirt image, which features plots of the first ever pulsar discovered by Jocelyn Bell Burnell and Antony Hewish in 1967. This then became the basis of many entertaining blog posts, such as [this one](https://adamcap.com/2011/05/19/history-of-joy-division-unknown-pleasures-album-art/){:target=\"_blank\"}.)"
   ]
  },
  {
   "cell_type": "markdown",
   "metadata": {},
   "source": [
    "![image label](images/noise/joydivision.jpg)"
   ]
  },
  {
   "cell_type": "markdown",
   "metadata": {},
   "source": [
    "A more conventional surface rendering is also possible:"
   ]
  },
  {
   "cell_type": "code",
   "execution_count": null,
   "metadata": {},
   "outputs": [],
   "source": [
    "function isograph(a)\n",
    "    @png begin\n",
    "        background(\"grey20\")\n",
    "        translate(0, -200)\n",
    "        setline(0.5)\n",
    "        sx, sy = size(a)\n",
    "        for x in 1:sx-1\n",
    "            for y in sy-1:-1:1\n",
    "                toppolygon = project.([\n",
    "                    (x,     y,     a[x, y]),\n",
    "                    (x + 1, y,     a[x + 1, y]),\n",
    "                    (x + 1, y + 1, a[x + 1, y + 1]),\n",
    "                    (x,     y + 1, a[x, y + 1])],\n",
    "                        heightmultiplier=-10,\n",
    "                        scalingfactor=5)\n",
    "                sethue(\"black\")\n",
    "                poly(toppolygon, close=true, :stroke)\n",
    "                sethue(get(ColorSchemes.inferno, a[x, y]))\n",
    "                poly(toppolygon, close=true, :fill)\n",
    "            end\n",
    "        end\n",
    "    end 800 500 \"images/noise/isosurface-2.png\"\n",
    "end\n",
    "\n",
    "isograph(generatenoisearray(100, 100, rate=0.08))"
   ]
  },
  {
   "cell_type": "markdown",
   "metadata": {},
   "source": [
    "![image label](images/noise/isosurface-2.png)"
   ]
  },
  {
   "cell_type": "markdown",
   "metadata": {},
   "source": [
    "### What, more dimensions?"
   ]
  },
  {
   "cell_type": "markdown",
   "metadata": {},
   "source": [
    "So far we've been generating 2D noise. The `noise()` function can also accept three floating-point numbers as input. This produces noise values in 3D space, where each 3D point can have a noise value between 0 and 1. Rendering these point clouds is definitely a job for something other than a simple 2D graphics system. But, while we're here, let's have a go:"
   ]
  },
  {
   "cell_type": "code",
   "execution_count": null,
   "metadata": {},
   "outputs": [],
   "source": [
    "function buildarray(a::AbstractArray; rate=20)\n",
    "    sx, sy, sz = size(a)\n",
    "    for x in 1:sx\n",
    "        for y in 1:sy\n",
    "            for z in 1:sz\n",
    "                a[x, y, z] = noise(x * rate, y * rate, z * rate)\n",
    "            end\n",
    "        end\n",
    "    end\n",
    "    return a\n",
    "end\n",
    "\n",
    "function iso3d(a)\n",
    "    background(\"grey20\")\n",
    "    sethue(\"gray80\")\n",
    "    setline(0.15)\n",
    "    rule.([Point(0, y) for y in -400:10:400])\n",
    "    sx, sy, sz = size(a)\n",
    "    for x in 1:sx\n",
    "        for y in 1:sy\n",
    "            for z in 1:sz\n",
    "                noisevalue = a[x, y, z]\n",
    "                sethue(get(ColorSchemes.plasma, noisevalue))\n",
    "                pt = project(x, y, z, scalingfactor=8)\n",
    "                setopacity(noisevalue)\n",
    "                circle(pt, rescale(noisevalue, 0, 1, 0.05, 6), :fill)\n",
    "            end\n",
    "        end\n",
    "    end\n",
    "end\n",
    "\n",
    "const A = Array{Float64, 3}(undef, 50, 50, 50)\n",
    "\n",
    "@png begin\n",
    "    iso3d(buildarray(A, rate=0.05))\n",
    "end 800 800 \"images/noise/isosolid.png\""
   ]
  },
  {
   "cell_type": "markdown",
   "metadata": {},
   "source": [
    "![image label](images/noise/isosolid.png)"
   ]
  },
  {
   "cell_type": "markdown",
   "metadata": {},
   "source": [
    "The noise values nearer 1 look like hot plasma, whereas values nearer 0 are almost translucent. It suggests what you might expect to see from a real volume visualization tool."
   ]
  },
  {
   "cell_type": "markdown",
   "metadata": {},
   "source": [
    "## Journey to Algorithmia"
   ]
  },
  {
   "cell_type": "markdown",
   "metadata": {},
   "source": [
    "The final images in this post combine 2D noise and 1D noise; 2D noise for the sky, and 1D noise to create the contours."
   ]
  },
  {
   "cell_type": "markdown",
   "metadata": {},
   "source": [
    "There's a `seednoise()` function. This takes an array of 512 integers between 1 and 12, and is broadly the equivalent of the `Random.seed!()` function in Julia. This is useful when you want the noise to vary from image to image."
   ]
  },
  {
   "cell_type": "code",
   "execution_count": null,
   "metadata": {},
   "outputs": [],
   "source": [
    "function layer(leftminheight, rightminheight, noiserate;\n",
    "        detail=1, persistence=0)\n",
    "    c1, c2, c3, c4 = box(BoundingBox(), vertices=true)\n",
    "    ip1 = between(c4, c1, leftminheight)\n",
    "    ip2 = between(c3, c2, rightminheight)\n",
    "    topedge = Point[]\n",
    "    seednoise(rand(1:12, 512))\n",
    "    for x in ip1.x:2:ip2.x\n",
    "        ypos = between(ip1, ip2, rescale(x, ip1.x, ip2.x, 0, 1)).y\n",
    "        ypos *= noise(x/noiserate,\n",
    "            detail=detail, persistence=persistence)\n",
    "        push!(topedge, Point(x, ypos))\n",
    "    end\n",
    "    p = [c4, topedge..., c3]\n",
    "    poly(p, :fill, close=true)\n",
    "end\n",
    "\n",
    "function clouds()\n",
    "    tiles = Tiler(boxwidth(BoundingBox()),\n",
    "                  boxheight(BoundingBox()),\n",
    "                  800, 800, margin=0)\n",
    "    @layer begin\n",
    "        transform([3 0 0 1 0 0])\n",
    "        setopacity(0.3)\n",
    "        noiserate = 0.01\n",
    "        for (pos, n) in tiles\n",
    "            nv = noise(pos.x * noiserate,\n",
    "                       pos.y * noiserate,\n",
    "                    detail=4, persistence=.4)\n",
    "            setgray(nv)\n",
    "            box(pos, tiles.tilewidth, tiles.tileheight, :fill)\n",
    "        end\n",
    "    end\n",
    "end\n",
    "\n",
    "function colorblend(fromcolor, tocolor, n=0.5)\n",
    "    f = clamp(n, 0, 1)\n",
    "    nc1 = convert(RGBA, fromcolor)\n",
    "    nc2 = convert(RGBA, tocolor)\n",
    "    from📕, from📗, from📘, from💡 =\n",
    "        convert.(Float64, (nc1.r, nc1.g, nc1.b, nc1.alpha))\n",
    "    to📕, to📗, to📘, to💡 =\n",
    "        convert.(Float64, (nc2.r, nc2.g, nc2.b, nc1.alpha))\n",
    "    new📕 = (f * (to📕 - from📕)) + from📕\n",
    "    new📗 = (f * (to📗 - from📗)) + from📗\n",
    "    new📘 = (f * (to📘 - from📘)) + from📘\n",
    "    new💡 = (f * (to💡 - from💡)) + from💡\n",
    "    return RGBA(new📕, new📗, new📘, new💡)\n",
    "end\n",
    "\n",
    "function landscape(scheme, filename)\n",
    "    Drawing(800, 300, \"$(filename).png\")\n",
    "    origin()\n",
    "    # sky is gradient mesh\n",
    "    bb = BoundingBox()\n",
    "    mesh1 = mesh(box(bb, vertices=true), [\n",
    "      get(scheme, rand()),\n",
    "      get(scheme, rand()),\n",
    "      get(scheme, rand()),\n",
    "      get(scheme, rand())\n",
    "      ])\n",
    "    setmesh(mesh1)\n",
    "    box(bb, :fill)\n",
    "    # clouds are 2D noise\n",
    "    clouds()\n",
    "    # the sun is a disk placed at random\n",
    "    @layer begin\n",
    "        setopacity(0.25)\n",
    "        sethue(get(scheme, .95))\n",
    "        sunposition = boxtop(bb) +\n",
    "            (rand(-boxwidth(bb)/3:boxwidth(bb)/3), boxheight(bb)/10)\n",
    "        circle(sunposition, boxdiagonal(bb)/30, :fill)\n",
    "    end\n",
    "    setopacity(0.8)\n",
    "    # how many layers\n",
    "    len = 6\n",
    "    noiselevels =  range(1000, length=len, stop=200)\n",
    "    detaillevels = 1:len\n",
    "    persistencelevels = range(0.5, length=len, stop=0.85 )\n",
    "    for (n, i) in enumerate(range(1, length=len, stop=0))\n",
    "        # avoid extremes of range\n",
    "        sethue(colorblend(get(scheme, .05), get(scheme, .95), i))\n",
    "        layer(i - rand()/2, i - rand()/2,\n",
    "            noiselevels[n], detail=detaillevels[n],\n",
    "            persistence=persistencelevels[n])\n",
    "    end\n",
    "    finish()\n",
    "    preview()\n",
    "end\n",
    "\n",
    "landscape(ColorSchemes.leonardo, \"images/noise/landscape-leonardo\")"
   ]
  },
  {
   "cell_type": "markdown",
   "metadata": {},
   "source": [
    "![image label](images/noise/landscape-leonardo.png)"
   ]
  },
  {
   "cell_type": "code",
   "execution_count": null,
   "metadata": {},
   "outputs": [],
   "source": [
    "landscape(ColorSchemes.starrynight, \"images/noise/landscapes-starrynight\")"
   ]
  },
  {
   "cell_type": "markdown",
   "metadata": {},
   "source": [
    "![image label](images/noise/landscapes-starrynight.png)"
   ]
  },
  {
   "cell_type": "markdown",
   "metadata": {},
   "source": [
    "I generated a few hundred of these (there are over 300 colorschemes that can be selected at random) and, scrolling through them quickly, I found that sometimes the results were good, sometimes they weren't. Randomness—and noise—can be hard to predict."
   ]
  },
  {
   "cell_type": "markdown",
   "metadata": {},
   "source": [
    "[2018-10-16]"
   ]
  },
  {
   "cell_type": "markdown",
   "metadata": {},
   "source": [
    "![cormullion signing off](http://steampiano.net/cormullionknot.gif?noise)"
   ]
  },
  {
   "cell_type": "markdown",
   "metadata": {},
   "source": [
    "*This notebook was generated using [Literate.jl](https://github.com/fredrikekre/Literate.jl).*"
   ]
  }
 ],
 "metadata": {
  "kernelspec": {
   "display_name": "Julia 1.9.2",
   "language": "julia",
   "name": "julia-1.9"
  },
  "language_info": {
   "file_extension": ".jl",
   "mimetype": "application/julia",
   "name": "julia",
   "version": "1.0.1"
  }
 },
 "nbformat": 4,
 "nbformat_minor": 3
}
