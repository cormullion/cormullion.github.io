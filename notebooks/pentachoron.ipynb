{
 "cells": [
  {
   "cell_type": "markdown",
   "metadata": {},
   "source": [
    "> This page contains quite a few animated GIFs. I apologise in advance if your browser or network connection doesn't like them. It's much easier to add a GIF than it is to embed a video into a GitHub pages blog, unfortunately."
   ]
  },
  {
   "cell_type": "markdown",
   "metadata": {},
   "source": [
    "### Pentachoron"
   ]
  },
  {
   "cell_type": "markdown",
   "metadata": {},
   "source": [
    "I encountered the word \"pentachoron\" recently for the first time, and I thought it had to be something cool. Turns out it is, so I thought I'd have a go at drawing one..."
   ]
  },
  {
   "cell_type": "markdown",
   "metadata": {},
   "source": [
    "Unfortunately, it's a 4-dimensional object, which is going to tax my limited 2D skills. But I like being out of my depth."
   ]
  },
  {
   "cell_type": "markdown",
   "metadata": {},
   "source": [
    "## First steps"
   ]
  },
  {
   "cell_type": "markdown",
   "metadata": {},
   "source": [
    "The first job is to define a couple of types to help organize all the various points."
   ]
  },
  {
   "cell_type": "markdown",
   "metadata": {},
   "source": [
    "Here's an immutable structure to hold the coordinates of a point in four dimensions. In four dimensions, the axes are usually called `x`, `y`, `z`, and `w`."
   ]
  },
  {
   "cell_type": "code",
   "execution_count": null,
   "metadata": {},
   "outputs": [],
   "source": [
    "struct Point4D <: AbstractArray{Float64, 1}\n",
    "    x::Float64\n",
    "    y::Float64\n",
    "    z::Float64\n",
    "    w::Float64\n",
    "end\n",
    "\n",
    "Point4D(a::Array{Float64, 1}) = Point4D(a...)\n",
    "\n",
    "Base.size(pt::Point4D) = (4, )\n",
    "\n",
    "Base.getindex(pt::Point4D, i) = [pt.x, pt.y, pt.z, pt.w][i]"
   ]
  },
  {
   "cell_type": "markdown",
   "metadata": {},
   "source": [
    "By adopting the AbstractArray as our stepmother type, we can pick up many useful behaviors. `size()` and `getindex()` can be taught how to handle Point4Ds. If you browse the [official documentation](https://docs.julialang.org/en/v1/manual/interfaces/#man-interface-array-1) for a while you'll find out how to effectively tap in to many desirable pre-defined abilities that our new type can inherit."
   ]
  },
  {
   "cell_type": "markdown",
   "metadata": {},
   "source": [
    "While we're here, let's do three-dimensional points as well:"
   ]
  },
  {
   "cell_type": "code",
   "execution_count": null,
   "metadata": {},
   "outputs": [],
   "source": [
    "struct Point3D <: AbstractArray{Float64, 1}\n",
    "    x::Float64\n",
    "    y::Float64\n",
    "    z::Float64\n",
    "end\n",
    "\n",
    "Base.size(pt::Point3D) = (3, )"
   ]
  },
  {
   "cell_type": "markdown",
   "metadata": {},
   "source": [
    "## Conversion"
   ]
  },
  {
   "cell_type": "markdown",
   "metadata": {},
   "source": [
    "The primary task we have to address is how to convert a 4D point into a 2D point. Let's start with the easier task: how to convert a 3D point into a 2D point, ie how can we draw a 3D shape on a flat surface?"
   ]
  },
  {
   "cell_type": "markdown",
   "metadata": {},
   "source": [
    "Consider a simple cube. The front face and the back face could have the same X and Y coordinates, and vary only by their Z values."
   ]
  },
  {
   "cell_type": "markdown",
   "metadata": {},
   "source": [
    "(This is just a diagram, it's not really 3D...)"
   ]
  },
  {
   "cell_type": "code",
   "execution_count": null,
   "metadata": {},
   "outputs": [],
   "source": [
    "using Luxor\n",
    "\n",
    "@svg begin\n",
    "    fontface(\"Menlo\")\n",
    "    fontsize(8)\n",
    "    setblend(blend(\n",
    "        boxtopcenter(BoundingBox()),\n",
    "        boxmiddlecenter(BoundingBox()),\n",
    "        \"skyblue\",\n",
    "        \"white\"))\n",
    "    box(boxtopleft(BoundingBox()),\n",
    "        boxmiddleright(BoundingBox()), :fill)\n",
    "\n",
    "    setblend(blend(\n",
    "        boxmiddlecenter(BoundingBox()),\n",
    "        boxbottomcenter(BoundingBox()),\n",
    "        \"grey95\",\n",
    "        \"grey45\"\n",
    "        ))\n",
    "    box(boxmiddleleft(BoundingBox()),\n",
    "        boxbottomright(BoundingBox()), :fill)\n",
    "\n",
    "    sethue(\"black\")\n",
    "    setline(2)\n",
    "    bx1 = box(O, 250, 250, vertices=true)\n",
    "    poly(bx1, :stroke, close=true)\n",
    "    label.([\"-1/1/1\", \"-1/-1/1\", \"1/-1/1\", \"1/1/1\"],\n",
    "        slope.(O, bx1), bx1)\n",
    "\n",
    "    setline(1)\n",
    "    bx2 = box(O, 150, 150, vertices=true)\n",
    "    poly(bx2, :stroke, close=true)\n",
    "    label.([\"-1/1/0\", \"-1/-1/0\", \"1/-1/0\", \"1/1/0\"],\n",
    "        slope.(O, bx2), bx2, offset=-45)\n",
    "\n",
    "    map((x, y) -> line(x, y, :stroke), bx1, bx2)\n",
    "end 500 500 \"images/pentachoron/cube.svg\""
   ]
  },
  {
   "cell_type": "markdown",
   "metadata": {},
   "source": [
    "So the idea is to project the cube from 3D to 2D by keeping the first two values, and multiplying or modifying them by the third value. We'll make a `convert()` function to do this:"
   ]
  },
  {
   "cell_type": "code",
   "execution_count": null,
   "metadata": {},
   "outputs": [],
   "source": [
    "function convert(Point, pt3::Point3D)\n",
    "    k = 1/(K - pt3.z)\n",
    "    return Point(pt3.x * k, pt3.y * k)\n",
    "end"
   ]
  },
  {
   "cell_type": "markdown",
   "metadata": {},
   "source": [
    "`K` is just a constant which provides a consistent value for depth:"
   ]
  },
  {
   "cell_type": "code",
   "execution_count": null,
   "metadata": {},
   "outputs": [],
   "source": [
    "const K = 4.0"
   ]
  },
  {
   "cell_type": "markdown",
   "metadata": {},
   "source": [
    "Testing this quickly in Luxor.jl gives promising results:"
   ]
  },
  {
   "cell_type": "code",
   "execution_count": null,
   "metadata": {},
   "outputs": [],
   "source": [
    "@svg begin\n",
    "    cube = Point3D[\n",
    "        Point3D(-1, -1,  1),\n",
    "        Point3D(-1,  1,  1),\n",
    "        Point3D( 1, -1,  1),\n",
    "        Point3D( 1,  1,  1),\n",
    "        Point3D(-1, -1, -1),\n",
    "        Point3D(-1,  1, -1),\n",
    "        Point3D( 1, -1, -1),\n",
    "        Point3D( 1,  1, -1),\n",
    "    ]\n",
    "    circle.(convert.(Point, cube) * 300, 5, :fill)\n",
    "end 500 500 \"images/pentachoron/basic3_to_2.png\""
   ]
  },
  {
   "cell_type": "markdown",
   "metadata": {},
   "source": [
    "It's a simple type of perspective projection."
   ]
  },
  {
   "cell_type": "markdown",
   "metadata": {},
   "source": [
    "Using the same principle, let's make a method for converting a 4D point."
   ]
  },
  {
   "cell_type": "code",
   "execution_count": null,
   "metadata": {},
   "outputs": [],
   "source": [
    "function convert(Point3D, pt4::Point4D)\n",
    "    k = 1/(K - pt4.w)\n",
    "    return Point3D(pt4.x * k, pt4.y * k, pt4.z * k)\n",
    "end"
   ]
  },
  {
   "cell_type": "markdown",
   "metadata": {},
   "source": [
    "Let's hope it works."
   ]
  },
  {
   "cell_type": "markdown",
   "metadata": {},
   "source": [
    "We can combine these into a single utility function called `flatten()` that takes a list of 4D points and double-maps them into a list of 2D points suitable for drawing."
   ]
  },
  {
   "cell_type": "code",
   "execution_count": null,
   "metadata": {},
   "outputs": [],
   "source": [
    "function flatten(shape4)\n",
    "    return map(pt3 -> convert(Point, pt3), map(pt4 -> convert(Point3D, pt4), shape4))\n",
    "end"
   ]
  },
  {
   "cell_type": "markdown",
   "metadata": {},
   "source": [
    "## Going up a level"
   ]
  },
  {
   "cell_type": "markdown",
   "metadata": {},
   "source": [
    "To test this, we'll define the vertices of a unit pentachoron:"
   ]
  },
  {
   "cell_type": "code",
   "execution_count": null,
   "metadata": {},
   "outputs": [],
   "source": [
    "const n = -1/√5\n",
    "\n",
    "const pentachoron = [Point4D(vertex...) for vertex in [\n",
    "    [ 1.0,  1.0,  1.0, n],\n",
    "    [ 1.0, -1.0, -1.0, n],\n",
    "    [-1.0,  1.0, -1.0, n],\n",
    "    [-1.0, -1.0,  1.0, n],\n",
    "    [ 0.0,  0.0,  0.0, n + √5]]]"
   ]
  },
  {
   "cell_type": "markdown",
   "metadata": {},
   "source": [
    "(According to [Wikipedia](https://en.wikipedia.org/wiki/5-cell), other names for the pentachoron include:\n",
    "\n",
    " * Regular 5-cell\n",
    " * C5\n",
    " * pentatope\n",
    " * pentahedroid\n",
    " * tetrahedral pyramid\n",
    " * 4-simplex\n",
    "\n",
    "I think *pentachoron* is the coolest, though.)\n",
    "\n",
    "Here's a list of \"faces\", with each face defined by three of the vertices:"
   ]
  },
  {
   "cell_type": "code",
   "execution_count": null,
   "metadata": {},
   "outputs": [],
   "source": [
    "const pentachoronfaces = [\n",
    "    [1, 2, 3],\n",
    "    [1, 2, 4],\n",
    "    [1, 2, 5],\n",
    "    [1, 3, 4],\n",
    "    [1, 3, 5],\n",
    "    [1, 4, 5],\n",
    "    [2, 3, 4],\n",
    "    [2, 3, 5],\n",
    "    [2, 4, 5],\n",
    "    [3, 4, 5]]"
   ]
  },
  {
   "cell_type": "markdown",
   "metadata": {},
   "source": [
    "A quick test:"
   ]
  },
  {
   "cell_type": "code",
   "execution_count": null,
   "metadata": {},
   "outputs": [],
   "source": [
    "@svg begin\n",
    "    setopacity(0.2)\n",
    "    pentachoron2D = flatten(pentachoron)\n",
    "    for (n, face) in enumerate(pentachoronfaces)\n",
    "        randomhue()\n",
    "        poly(1500 * pentachoron2D[face], :fillpreserve, close=true)\n",
    "        sethue(\"black\")\n",
    "        strokepath()\n",
    "    end\n",
    "end 600 250 \"images/pentachoron/firstdraw.svg\""
   ]
  },
  {
   "cell_type": "markdown",
   "metadata": {},
   "source": [
    "This isn't very interesting, although I *think* it's correct. To see a more appealing display, let's make it dance..."
   ]
  },
  {
   "cell_type": "markdown",
   "metadata": {},
   "source": [
    "## Swings and roundabouts"
   ]
  },
  {
   "cell_type": "markdown",
   "metadata": {},
   "source": [
    "You usually rotate 2D points about a 1D point. You usually rotate 3D points about a 2D line (often one of the XYZ axes). So logically you'd rotate 4D points with reference to a 3D plane. We'll define some matrices that do 4D rotations relative to a plane defined by two of the X, Y, Z, and W axes."
   ]
  },
  {
   "cell_type": "markdown",
   "metadata": {},
   "source": [
    "As I'm thinking about it, the XY plane is typically the plane of the drawing surface. If you think of the XY plane as a computer screen straight in front of you, the XZ plane is parallel to your desk or floor, and the YZ plane is like a wall beside your desk on your right or left side."
   ]
  },
  {
   "cell_type": "markdown",
   "metadata": {},
   "source": [
    "But what about the XW plane? And the YW and ZW planes, for that matter? This is the mystery of 4D shapes: we can't see these planes, we can only imagine their existence by watching shapes moving through and around them."
   ]
  },
  {
   "cell_type": "markdown",
   "metadata": {},
   "source": [
    "Here's a function that generates a suitable rotation matrix for rotating a 4D point in the XY plane:"
   ]
  },
  {
   "cell_type": "code",
   "execution_count": null,
   "metadata": {},
   "outputs": [],
   "source": [
    "function XY(θ)\n",
    "    [cos(θ)   -sin(θ)  0        0;\n",
    "    sin(θ)    cos(θ)   0        0;\n",
    "    0         0        1        0;\n",
    "    0         0        0        1]\n",
    "end"
   ]
  },
  {
   "cell_type": "markdown",
   "metadata": {},
   "source": [
    "and here's another one that rotates a 4D point in the XW plane:"
   ]
  },
  {
   "cell_type": "code",
   "execution_count": null,
   "metadata": {},
   "outputs": [],
   "source": [
    "function XW(θ)\n",
    "    [cos(θ)   0        0        -sin(θ);\n",
    "    0         1        0        0;\n",
    "    0         0        1        0;\n",
    "    sin(θ)    0        0        cos(θ)]\n",
    "end"
   ]
  },
  {
   "cell_type": "markdown",
   "metadata": {},
   "source": [
    "Oh, it looks like we're having a matrix party, so we might as well do the others while we're here:"
   ]
  },
  {
   "cell_type": "code",
   "execution_count": null,
   "metadata": {},
   "outputs": [],
   "source": [
    "function XZ(θ)\n",
    "    [cos(θ)   0        -sin(θ)  0;\n",
    "    0         1        0        0;\n",
    "    sin(θ)    0        cos(θ)   0;\n",
    "    0         0        0        1]\n",
    "end\n",
    "\n",
    "\n",
    "function YZ(θ)\n",
    "    [1        0        0        0;\n",
    "    0         cos(θ)   -sin(θ)  0;\n",
    "    0         sin(θ)   cos(θ)   0;\n",
    "    0         0        0        1]\n",
    "end\n",
    "\n",
    "function YW(θ)\n",
    "    [1        0        0        0;\n",
    "    0         cos(θ)   0        -sin(θ);\n",
    "    0         0        1        0;\n",
    "    0         sin(θ)   0        cos(θ)]\n",
    "end\n",
    "\n",
    "function ZW(θ)\n",
    "    [1        0        0        0;\n",
    "    0         1        0        0;\n",
    "    0         0        cos(θ)   -sin(θ);\n",
    "    0         0        sin(θ)   cos(θ)];\n",
    "end"
   ]
  },
  {
   "cell_type": "markdown",
   "metadata": {},
   "source": [
    "We'll make a handy utility function that uses one of these matrix functions to rotate an array of 4D points `A` in the plane defined by the matrix function:"
   ]
  },
  {
   "cell_type": "code",
   "execution_count": null,
   "metadata": {},
   "outputs": [],
   "source": [
    "function rotate4(A, matrixfunction)\n",
    "    return map(A) do pt4\n",
    "        Point4D(matrixfunction * pt4)\n",
    "    end\n",
    "end"
   ]
  },
  {
   "cell_type": "markdown",
   "metadata": {},
   "source": [
    "So we can write `rotate4(A, XW(π/2))` to rotate the array of points in `A` in the XW plane by π/2. We can also write `rotate4(A, XW(π/2) * XY(π/2))` to rotate the points first in the XW plane and then in the XY plane."
   ]
  },
  {
   "cell_type": "markdown",
   "metadata": {},
   "source": [
    "Notice that the `rotate4()` function returns a new array, rather than modifying the original one. This probably has some disadvantages, but for now it means that we don't have to keep track of mutating objects so carefully."
   ]
  },
  {
   "cell_type": "markdown",
   "metadata": {},
   "source": [
    "## It moves"
   ]
  },
  {
   "cell_type": "markdown",
   "metadata": {},
   "source": [
    "We're now able to make an animation that rotates our pentachoron in one or more planes."
   ]
  },
  {
   "cell_type": "markdown",
   "metadata": {},
   "source": [
    "The `frame()` function generates a single frame, using the framenumber (`eased_n` provides a normalized version of the framenumber modulated by the easing function) to control the rotation between 0 and 2π. The scalefactor makes the unit shape big enough to fill the frame."
   ]
  },
  {
   "cell_type": "markdown",
   "metadata": {},
   "source": [
    "It's helpful to color the faces very slightly, using `poly(..., :fill)`-er."
   ]
  },
  {
   "cell_type": "code",
   "execution_count": null,
   "metadata": {},
   "outputs": [],
   "source": [
    "using ColorSchemes\n",
    "\n",
    "function frame(scene, framenumber, scalefactor=1000)\n",
    "    background(\"antiquewhite\")\n",
    "    setlinejoin(\"bevel\")\n",
    "    setline(1.0)\n",
    "    sethue(\"black\")\n",
    "    eased_n       = scene.easingfunction(framenumber, 0, 1, scene.framerange.stop)\n",
    "    pentachoron′  = rotate4(pentachoron, XZ(eased_n * 2π))\n",
    "    pentachoron2D = flatten(pentachoron′)\n",
    "\n",
    "    setopacity(0.2)\n",
    "    for (n, face) in enumerate(pentachoronfaces)\n",
    "        sethue(get(ColorSchemes.diverging_rainbow_bgymr_45_85_c67_n256,\n",
    "            n/length(pentachoronfaces)))\n",
    "        poly(scalefactor * pentachoron2D[face], :fillpreserve, close=true)\n",
    "        sethue(\"black\")\n",
    "        strokepath()\n",
    "    end\n",
    "end"
   ]
  },
  {
   "cell_type": "markdown",
   "metadata": {},
   "source": [
    "And this function generates a series of frames and saves them to an animation:"
   ]
  },
  {
   "cell_type": "code",
   "execution_count": null,
   "metadata": {},
   "outputs": [],
   "source": [
    "function makemovie(w, h, fname;\n",
    "        scalefactor=1000)\n",
    "    movie1 = Movie(w, h, \"4D movie\")\n",
    "    animate(movie1,\n",
    "        Scene(movie1, (s, f)  -> frame(s, f, scalefactor),\n",
    "            1:300,\n",
    "            easingfunction=easeinoutsine),\n",
    "        creategif=true,\n",
    "        pathname=\"images/pentachoron/$(fname)\")\n",
    "end\n",
    "\n",
    "makemovie(600, 600, \"pentachoron-xz.gif\", scalefactor=2000)"
   ]
  },
  {
   "cell_type": "markdown",
   "metadata": {},
   "source": [
    "This is a rotation in the \"parallel to the desk my computer's resting on\" XZ plane."
   ]
  },
  {
   "cell_type": "markdown",
   "metadata": {},
   "source": [
    "It's not a realistic rendering with hidden-surface removal—I wouldn't know how to do that in 3D, let alone 4D. But it does make it slightly easier to follow some of the faces. Something to do one day might be to sort the \"faces\" to determine which are drawn first, but given the maths involved this is a challenge I'm dubious about tackling..."
   ]
  },
  {
   "cell_type": "markdown",
   "metadata": {},
   "source": [
    "We can modify `frame()` to allow various permutations of XY, XW, XZ, YZ, YW, and ZW rotations. Here's a version that rotates in XZ, followed by YW:"
   ]
  },
  {
   "cell_type": "code",
   "execution_count": null,
   "metadata": {},
   "outputs": [],
   "source": [
    "function frame(scene, framenumber, scalefactor=1000)\n",
    "    background(\"antiquewhite\")\n",
    "    setlinejoin(\"bevel\")\n",
    "    setline(1.0)\n",
    "    setopacity(0.2)\n",
    "\n",
    "    eased_n       = scene.easingfunction(framenumber, 0, 1, scene.framerange.stop)\n",
    "    pentachoron2D = flatten(\n",
    "        rotate4(\n",
    "            pentachoron,\n",
    "                XZ(eased_n * 2π) *\n",
    "                YW(eased_n * 2π)))\n",
    "    for (n, face) in enumerate(pentachoronfaces)\n",
    "        sethue(get(ColorSchemes.diverging_rainbow_bgymr_45_85_c67_n256,\n",
    "            n/length(pentachoronfaces)))\n",
    "        poly(scalefactor * pentachoron2D[face], :fillpreserve, close=true)\n",
    "        sethue(\"black\")\n",
    "        strokepath()\n",
    "    end\n",
    "end\n",
    "\n",
    "makemovie(800, 800, \"pentachoron-xz-yw.gif\", scalefactor=2000)"
   ]
  },
  {
   "cell_type": "markdown",
   "metadata": {},
   "source": [
    "These are starting to make me think of kneading machines for making pizza dough."
   ]
  },
  {
   "cell_type": "markdown",
   "metadata": {},
   "source": [
    "You can draw a few different models at once, placing each one in a separate cell:"
   ]
  },
  {
   "cell_type": "markdown",
   "metadata": {},
   "source": [
    "This is showing 2D shadows of 3D shadows of 4D objects. Do these objects exist? I don't know..."
   ]
  },
  {
   "cell_type": "markdown",
   "metadata": {},
   "source": [
    "### Other shapes"
   ]
  },
  {
   "cell_type": "markdown",
   "metadata": {},
   "source": [
    "While the word \"pentachoron\" was unfamiliar to me until recently, the word \"tesseract\" is much more familiar. After all, didn't the tesseract contain the Space Stone, one of the six Infinity Stones that apparently predate the universe and possess unlimited energy? (According to the scientists at Marvel Comics, at least...) It's also the name of a 4-dimensional hypercube, one step up from the pentachoron."
   ]
  },
  {
   "cell_type": "markdown",
   "metadata": {},
   "source": [
    "Here are the vital numbers for the tesseract:"
   ]
  },
  {
   "cell_type": "code",
   "execution_count": null,
   "metadata": {},
   "outputs": [],
   "source": [
    "const tesseract = [Point4D(vertex...) for vertex in [\n",
    "    [-1, -1, -1,  1],\n",
    "    [ 1, -1, -1,  1],\n",
    "    [ 1,  1, -1,  1],\n",
    "    [-1,  1, -1,  1],\n",
    "    [-1, -1,  1,  1],\n",
    "    [ 1, -1,  1,  1],\n",
    "    [ 1,  1,  1,  1],\n",
    "    [-1,  1,  1,  1],\n",
    "    [-1, -1, -1, -1],\n",
    "    [ 1, -1, -1, -1],\n",
    "    [ 1,  1, -1, -1],\n",
    "    [-1,  1, -1, -1],\n",
    "    [-1, -1,  1, -1],\n",
    "    [ 1, -1,  1, -1],\n",
    "    [ 1,  1,  1, -1],\n",
    "    [-1,  1,  1, -1]]]\n",
    "\n",
    "const tesseractfaces = [\n",
    "    [1,   2,   3,   4],\n",
    "    [1,   2,  10,   9],\n",
    "    [1,   4,   8,   5],\n",
    "    [1,   5,   6,   2],\n",
    "    [1,   9,  12,   4],\n",
    "    [2,   3,  11,  10],\n",
    "    [2,   3,   7,   6],\n",
    "    [3,   4,   8,   7],\n",
    "    [5,   6,  14,  13],\n",
    "    [5,   6,   7,   8],\n",
    "    [5,   8,  16,  13],\n",
    "    [6,   7,  15,  14],\n",
    "    [7,   8,  16,  15],\n",
    "    [9,  10,  11,  12],\n",
    "    [9,  10,  14,  13],\n",
    "    [9,  13,  16,  12],\n",
    "    [10, 11,  15,  14],\n",
    "    [13, 14,  15,  16]]"
   ]
  },
  {
   "cell_type": "markdown",
   "metadata": {},
   "source": [
    "Replace `pentachoron` everywhere by `tesseract` in the above code, choosing the rotations to taste."
   ]
  },
  {
   "cell_type": "code",
   "execution_count": null,
   "metadata": {},
   "outputs": [],
   "source": [
    "function frame(scene, framenumber, scalefactor=1000)\n",
    "    background(\"black\")\n",
    "    setlinejoin(\"bevel\")\n",
    "    setline(10.0)\n",
    "    setopacity(0.7)\n",
    "\n",
    "    eased_n       = scene.easingfunction(framenumber, 0, 1, scene.framerange.stop)\n",
    "    tesseract2D = flatten(\n",
    "        rotate4(\n",
    "            tesseract,\n",
    "                XZ(eased_n * 2π) *\n",
    "                YW(eased_n * 2π)))\n",
    "    for (n, face) in enumerate(tesseractfaces)\n",
    "        sethue([Luxor.lighter_blue, Luxor.lighter_green,\n",
    "            Luxor.lighter_purple, Luxor.lighter_red][mod1(n, 4)]...)\n",
    "        poly(scalefactor * tesseract2D[face], :fillpreserve, close=true)\n",
    "        sethue([Luxor.darker_blue, Luxor.darker_green,\n",
    "            Luxor.darker_purple, Luxor.darker_red][mod1(n, 4)]...)\n",
    "        strokepath()\n",
    "    end\n",
    "end\n",
    "\n",
    "makemovie(800, 800, \"tesseract-xz-yw.gif\", scalefactor=2000)"
   ]
  },
  {
   "cell_type": "markdown",
   "metadata": {},
   "source": [
    "(Just for fun I temporarily switched the color scheme over to the Julia logo colors. You can see the 3D rendering problems more clearly, as well!)"
   ]
  },
  {
   "cell_type": "markdown",
   "metadata": {},
   "source": [
    "Here's a composite of four pairs of rotations:"
   ]
  },
  {
   "cell_type": "markdown",
   "metadata": {},
   "source": [
    "## Enough is enough"
   ]
  },
  {
   "cell_type": "markdown",
   "metadata": {},
   "source": [
    "It's tempting to go further, but these web pages do get very big with all these GIFs. But just one more... I quite like this one, the *hexadecachoron*:"
   ]
  },
  {
   "cell_type": "code",
   "execution_count": null,
   "metadata": {},
   "outputs": [],
   "source": [
    "const hexadecachoron = [Point4D(vertex...) for vertex in [\n",
    "        [ 1,  0,  0,  0],\n",
    "        [ 0,  1,  0,  0],\n",
    "        [ 0,  0,  1,  0],\n",
    "        [ 0,  0,  0,  1],\n",
    "        [-1,  0,  0,  0],\n",
    "        [ 0, -1,  0,  0],\n",
    "        [ 0,  0, -1,  0],\n",
    "        [ 0,  0,  0, -1]]]\n",
    "\n",
    "using Combinatorics\n",
    "\n",
    "const hexadecachoronfaces = combinations(1:8, 3)\n",
    "\n",
    "function frame(scene, framenumber, scalefactor=1000)\n",
    "    background(\"antiquewhite\")\n",
    "    setlinejoin(\"bevel\")\n",
    "    setline(1.0)\n",
    "    setopacity(0.15)\n",
    "    eased_n          =\n",
    "        scene.easingfunction(framenumber, 0, 1, scene.framerange.stop)\n",
    "    hexadecachoron2D = flatten(\n",
    "        rotate4(\n",
    "            hexadecachoron,\n",
    "                YZ(eased_n * 2π) *\n",
    "                XZ(eased_n * 2π) *\n",
    "                YW(eased_n * 2π)))\n",
    "    for (n, face) in enumerate(hexadecachoronfaces)\n",
    "        sethue(get(ColorSchemes.magma,\n",
    "            n/length(hexadecachoronfaces)))\n",
    "        poly(scalefactor * hexadecachoron2D[face], :fillpreserve, close=true)\n",
    "        sethue(\"black\")\n",
    "        strokepath()\n",
    "    end\n",
    "end\n",
    "\n",
    "makemovie(650, 650, \"movie-hexadecachoron.gif\", scalefactor=5000)"
   ]
  },
  {
   "cell_type": "markdown",
   "metadata": {},
   "source": [
    "There's lots more fun to be had (combining two or more different shapes is fun), but I'm worried about your network and my brain cells, so that's enough animated GIFs for today."
   ]
  },
  {
   "cell_type": "markdown",
   "metadata": {},
   "source": [
    "[2018-04-03]"
   ]
  },
  {
   "cell_type": "markdown",
   "metadata": {},
   "source": [
    "![cormullion signing off](http://steampiano.net/cormullionknot.gif?pentachoron){: .center-image}"
   ]
  },
  {
   "cell_type": "markdown",
   "metadata": {},
   "source": [
    "*This notebook was generated using [Literate.jl](https://github.com/fredrikekre/Literate.jl).*"
   ]
  }
 ],
 "metadata": {
  "kernelspec": {
   "display_name": "Julia 1.9.2",
   "language": "julia",
   "name": "julia-1.9"
  },
  "language_info": {
   "file_extension": ".jl",
   "mimetype": "application/julia",
   "name": "julia",
   "version": "1.1.0"
  }
 },
 "nbformat": 4,
 "nbformat_minor": 3
}
